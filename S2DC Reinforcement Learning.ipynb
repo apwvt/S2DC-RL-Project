{
  "nbformat": 4,
  "nbformat_minor": 0,
  "metadata": {
    "colab": {
      "name": "S2DC Reinforcement Learning.ipynb",
      "provenance": [],
      "include_colab_link": true
    },
    "kernelspec": {
      "name": "python3",
      "display_name": "Python 3"
    }
  },
  "cells": [
    {
      "cell_type": "markdown",
      "metadata": {
        "id": "view-in-github",
        "colab_type": "text"
      },
      "source": [
        "<a href=\"https://colab.research.google.com/github/apwvt/S2DC-RL-Project/blob/main/S2DC%20Reinforcement%20Learning.ipynb\" target=\"_parent\"><img src=\"https://colab.research.google.com/assets/colab-badge.svg\" alt=\"Open In Colab\"/></a>"
      ]
    },
    {
      "cell_type": "markdown",
      "metadata": {
        "id": "VsCC7TT8ujJF"
      },
      "source": [
        "**Pull Project Code**\r\n",
        "\r\n",
        "---\r\n",
        "We first get the latest version of the project code.\r\n"
      ]
    },
    {
      "cell_type": "code",
      "metadata": {
        "id": "Dtaudn-U6THQ",
        "outputId": "062573bc-dc88-47ad-cbcf-865eab12a395",
        "colab": {
          "base_uri": "https://localhost:8080/"
        }
      },
      "source": [
        "from os import path\r\n",
        "if path.exists(\"S2DC-RL-Project\"):\r\n",
        "  ! cd S2DC-RL-Project && git pull\r\n",
        "else:\r\n",
        "  ! git clone https://github.com/apwvt/S2DC-RL-Project.git"
      ],
      "execution_count": 1,
      "outputs": [
        {
          "output_type": "stream",
          "text": [
            "Cloning into 'S2DC-RL-Project'...\n",
            "remote: Enumerating objects: 92, done.\u001b[K\n",
            "remote: Counting objects: 100% (92/92), done.\u001b[K\n",
            "remote: Compressing objects: 100% (67/67), done.\u001b[K\n",
            "remote: Total 92 (delta 35), reused 67 (delta 19), pack-reused 0\u001b[K\n",
            "Unpacking objects: 100% (92/92), done.\n"
          ],
          "name": "stdout"
        }
      ]
    },
    {
      "cell_type": "code",
      "metadata": {
        "id": "tac080_0yU8P"
      },
      "source": [
        "# We add the repository folder to the module path.\r\n",
        "import sys\r\n",
        "sys.path.insert(1, \"/content/S2DC-RL-Project\")"
      ],
      "execution_count": 22,
      "outputs": []
    },
    {
      "cell_type": "markdown",
      "metadata": {
        "id": "D6ir-RUx8VKA"
      },
      "source": [
        "**Mount Drive**\r\n",
        "\r\n",
        "---\r\n",
        "We mount a shared drive to have a place to save checkpoints."
      ]
    },
    {
      "cell_type": "code",
      "metadata": {
        "colab": {
          "base_uri": "https://localhost:8080/"
        },
        "id": "V1l0dLac8eHw",
        "outputId": "da7441dd-91b2-40e5-9b0d-b4d63c1f59a9"
      },
      "source": [
        "from google.colab import drive\r\n",
        "drive.mount('/content/Drive')\r\n",
        "\r\n",
        "%set_env CPFOLDER=/content/Drive/Shareddrives/CS_ML_ENV/colab_env/S2DC-RL-Project"
      ],
      "execution_count": 2,
      "outputs": [
        {
          "output_type": "stream",
          "text": [
            "Mounted at /content/Drive\n",
            "env: CPFOLDER=/content/Drive/Shareddrives/CS_ML_ENV/colab_env/S2DC-RL-Project\n"
          ],
          "name": "stdout"
        }
      ]
    },
    {
      "cell_type": "markdown",
      "metadata": {
        "id": "DYWAuU3qNSL4"
      },
      "source": [
        "**Setup Dependencies**\r\n",
        "\r\n",
        "---\r\n",
        "We install our repository as a local package."
      ]
    },
    {
      "cell_type": "code",
      "metadata": {
        "id": "LJSCibvZNnmj"
      },
      "source": [
        "% cd S2DC-RL-Project\r\n",
        "! pip install -e .  # Local module\r\n",
        "! pip install ray   # Distributed computing package"
      ],
      "execution_count": null,
      "outputs": []
    },
    {
      "cell_type": "markdown",
      "metadata": {
        "id": "zMfbvc8lx9oI"
      },
      "source": [
        "**Run Project Code**\r\n",
        "\r\n",
        "---\r\n",
        "\r\n",
        "Any project files can be loaded from here and used in programs."
      ]
    },
    {
      "cell_type": "code",
      "metadata": {
        "id": "HvLcWbdiyGnH"
      },
      "source": [
        "from muzero_collab.muzero import MuZero\r\n",
        "\r\n",
        "muzero = MuZero(\"battle\")"
      ],
      "execution_count": null,
      "outputs": []
    }
  ]
}