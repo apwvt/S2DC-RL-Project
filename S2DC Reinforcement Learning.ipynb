{
  "nbformat": 4,
  "nbformat_minor": 0,
  "metadata": {
    "colab": {
      "name": "S2DC Reinforcement Learning.ipynb",
      "provenance": [],
      "include_colab_link": true
    },
    "kernelspec": {
      "name": "python3",
      "display_name": "Python 3"
    },
    "accelerator": "GPU"
  },
  "cells": [
    {
      "cell_type": "markdown",
      "metadata": {
        "id": "view-in-github",
        "colab_type": "text"
      },
      "source": [
        "<a href=\"https://colab.research.google.com/github/apwvt/S2DC-RL-Project/blob/self-play/S2DC%20Reinforcement%20Learning.ipynb\" target=\"_parent\"><img src=\"https://colab.research.google.com/assets/colab-badge.svg\" alt=\"Open In Colab\"/></a>"
      ]
    },
    {
      "cell_type": "markdown",
      "metadata": {
        "id": "VsCC7TT8ujJF"
      },
      "source": [
        "**Pull Project Code**\r\n",
        "\r\n",
        "---\r\n",
        "We first get the latest version of the project code.\r\n"
      ]
    },
    {
      "cell_type": "code",
      "metadata": {
        "id": "Dtaudn-U6THQ",
        "colab": {
          "base_uri": "https://localhost:8080/"
        },
        "outputId": "eb6e1ec5-3970-4afe-9a9e-3fa61aae5ee3"
      },
      "source": [
        "from os import path\r\n",
        "if path.exists(\"S2DC-RL-Project\"):\r\n",
        "  ! cd S2DC-RL-Project && git pull\r\n",
        "else:\r\n",
        "  ! git clone https://github.com/apwvt/S2DC-RL-Project.git"
      ],
      "execution_count": 1,
      "outputs": [
        {
          "output_type": "stream",
          "text": [
            "Cloning into 'S2DC-RL-Project'...\n",
            "remote: Enumerating objects: 137, done.\u001b[K\n",
            "remote: Counting objects: 100% (137/137), done.\u001b[K\n",
            "remote: Compressing objects: 100% (94/94), done.\u001b[K\n",
            "remote: Total 137 (delta 61), reused 101 (delta 36), pack-reused 0\u001b[K\n",
            "Receiving objects: 100% (137/137), 50.36 KiB | 10.07 MiB/s, done.\n",
            "Resolving deltas: 100% (61/61), done.\n"
          ],
          "name": "stdout"
        }
      ]
    },
    {
      "cell_type": "code",
      "metadata": {
        "id": "tac080_0yU8P"
      },
      "source": [
        "# We add the repository folder to the module path.\r\n",
        "import sys\r\n",
        "sys.path.insert(1, \"/content/S2DC-RL-Project\")"
      ],
      "execution_count": 2,
      "outputs": []
    },
    {
      "cell_type": "markdown",
      "metadata": {
        "id": "D6ir-RUx8VKA"
      },
      "source": [
        "**Mount Drive**\r\n",
        "\r\n",
        "---\r\n",
        "We mount a shared drive to have a place to save checkpoints."
      ]
    },
    {
      "cell_type": "code",
      "metadata": {
        "id": "V1l0dLac8eHw"
      },
      "source": [
        "from google.colab import drive\r\n",
        "drive.mount('/content/Drive')\r\n",
        "\r\n",
        "%set_env CPFOLDER=/content/Drive/Shareddrives/CS_ML_ENV/colab_env/S2DC-RL-Project"
      ],
      "execution_count": null,
      "outputs": []
    },
    {
      "cell_type": "markdown",
      "metadata": {
        "id": "DYWAuU3qNSL4"
      },
      "source": [
        "**Setup Dependencies**\r\n",
        "\r\n",
        "---\r\n",
        "We install our repository as a local package."
      ]
    },
    {
      "cell_type": "code",
      "metadata": {
        "id": "LJSCibvZNnmj"
      },
      "source": [
        "% cd S2DC-RL-Project\r\n",
        "! pip install -e .  # Local module\r\n",
        "! pip install ray   # Distributed computing package\r\n",
        "! pip install pettingzoo # Environment support\r\n",
        "! pip install pettingzoo[magent] # Multi-agent environments\r\n",
        "! pip install tensorboard"
      ],
      "execution_count": null,
      "outputs": []
    },
    {
      "cell_type": "markdown",
      "metadata": {
        "id": "zMfbvc8lx9oI"
      },
      "source": [
        "**Run Project Code**\r\n",
        "\r\n",
        "---\r\n",
        "\r\n",
        "Any project files can be loaded from here and used in programs."
      ]
    },
    {
      "cell_type": "code",
      "metadata": {
        "id": "a51Tn-O-mLto"
      },
      "source": [
        "# Load the TensorBoard notebook extension\r\n",
        "%load_ext tensorboard"
      ],
      "execution_count": 4,
      "outputs": []
    },
    {
      "cell_type": "code",
      "metadata": {
        "id": "hp4_oA6wSX9n",
        "outputId": "de1525d4-a186-4f07-f10f-4f29033fc67a",
        "colab": {
          "base_uri": "https://localhost:8080/"
        }
      },
      "source": [
        "# Switch to the git branch to use\r\n",
        "! git checkout self-play"
      ],
      "execution_count": 5,
      "outputs": [
        {
          "output_type": "stream",
          "text": [
            "Branch 'self-play' set up to track remote branch 'self-play' from 'origin'.\n",
            "Switched to a new branch 'self-play'\n"
          ],
          "name": "stdout"
        }
      ]
    },
    {
      "cell_type": "code",
      "metadata": {
        "id": "HvLcWbdiyGnH",
        "outputId": "df655909-73a4-40e1-bc3f-09465498a5fb",
        "colab": {
          "base_uri": "https://localhost:8080/"
        }
      },
      "source": [
        "# Begin the model's training\r\n",
        "from muzero_collab.muzero import MuZero\r\n",
        "import ray\r\n",
        "\r\n",
        "muzero = MuZero(\"\")\r\n",
        "\r\n",
        "if ray.is_initialized():\r\n",
        "  ray.shutdown()\r\n",
        "\r\n",
        "ray.init(local_mode=True)\r\n",
        "muzero.train()"
      ],
      "execution_count": 7,
      "outputs": [
        {
          "output_type": "stream",
          "text": [
            "2021-03-11 00:08:06,883\tINFO services.py:1174 -- View the Ray dashboard at \u001b[1m\u001b[32mhttp://127.0.0.1:8265\u001b[39m\u001b[22m\n",
            "2021-03-11 00:08:12,843\tINFO services.py:1174 -- View the Ray dashboard at \u001b[1m\u001b[32mhttp://127.0.0.1:8265\u001b[39m\u001b[22m\n"
          ],
          "name": "stderr"
        },
        {
          "output_type": "stream",
          "text": [
            "\n",
            "Training...\n",
            "Run tensorboard --logdir ./results and go to http://localhost:6006/ to see in real time the training performance.\n",
            "\n",
            "Last test reward: 0.00. Training step: 0/10000. Played games: 0. Loss: 0.00\n",
            "Shutting down workers...\n",
            "\n",
            "\n",
            "Persisting replay buffer games to disk...\n"
          ],
          "name": "stdout"
        }
      ]
    },
    {
      "cell_type": "code",
      "metadata": {
        "id": "33a8or2xpQBE"
      },
      "source": [
        "# Download the logs folder as a tarball\r\n",
        "!tar czf results.tar.gz ./muzero_collab/results"
      ],
      "execution_count": 9,
      "outputs": []
    },
    {
      "cell_type": "code",
      "metadata": {
        "id": "b7JLCuxgVDAE",
        "outputId": "48ed2480-681a-4b06-ca36-63cf6e506983",
        "colab": {
          "base_uri": "https://localhost:8080/",
          "height": 821
        }
      },
      "source": [
        "# This should start tensorboard, but at last check doesn't\r\n",
        "%tensorboard --logdir muzero_collab/results"
      ],
      "execution_count": 8,
      "outputs": [
        {
          "output_type": "display_data",
          "data": {
            "application/javascript": [
              "\n",
              "        (async () => {\n",
              "            const url = new URL(await google.colab.kernel.proxyPort(6006, {'cache': true}));\n",
              "            url.searchParams.set('tensorboardColab', 'true');\n",
              "            const iframe = document.createElement('iframe');\n",
              "            iframe.src = url;\n",
              "            iframe.setAttribute('width', '100%');\n",
              "            iframe.setAttribute('height', '800');\n",
              "            iframe.setAttribute('frameborder', 0);\n",
              "            document.body.appendChild(iframe);\n",
              "        })();\n",
              "    "
            ],
            "text/plain": [
              "<IPython.core.display.Javascript object>"
            ]
          },
          "metadata": {
            "tags": []
          }
        }
      ]
    }
  ]
}