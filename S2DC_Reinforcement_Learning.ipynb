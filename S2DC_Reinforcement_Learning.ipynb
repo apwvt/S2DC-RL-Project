{
  "nbformat": 4,
  "nbformat_minor": 0,
  "metadata": {
    "colab": {
      "name": "S2DC Reinforcement Learning.ipynb",
      "provenance": [],
      "authorship_tag": "ABX9TyMXfdu67dXM+OWioS4ZnOEB",
      "include_colab_link": true
    },
    "kernelspec": {
      "name": "python3",
      "display_name": "Python 3"
    }
  },
  "cells": [
    {
      "cell_type": "markdown",
      "metadata": {
        "id": "view-in-github",
        "colab_type": "text"
      },
      "source": [
        "<a href=\"https://colab.research.google.com/github/apwvt/S2DC-RL-Project/blob/main/S2DC_Reinforcement_Learning.ipynb\" target=\"_parent\"><img src=\"https://colab.research.google.com/assets/colab-badge.svg\" alt=\"Open In Colab\"/></a>"
      ]
    },
    {
      "cell_type": "markdown",
      "metadata": {
        "id": "VsCC7TT8ujJF"
      },
      "source": [
        "**Pull Project Code**\r\n",
        "\r\n",
        "---\r\n",
        "We first get the latest version of the project code.\r\n"
      ]
    },
    {
      "cell_type": "code",
      "metadata": {
        "colab": {
          "base_uri": "https://localhost:8080/"
        },
        "id": "Dtaudn-U6THQ",
        "outputId": "10ed6f1f-a02e-4178-ee54-02c4b2fe5f6b"
      },
      "source": [
        "from os import path\r\n",
        "if path.exists(\"S2DC-RL-Project\"):\r\n",
        "  ! cd S2DC-RL-Project && git pull\r\n",
        "else:\r\n",
        "  ! git clone https://github.com/apwvt/S2DC-RL-Project.git"
      ],
      "execution_count": 5,
      "outputs": [
        {
          "output_type": "stream",
          "text": [
            "Already up to date.\n"
          ],
          "name": "stdout"
        }
      ]
    },
    {
      "cell_type": "code",
      "metadata": {
        "id": "tac080_0yU8P"
      },
      "source": [
        "# We add the repository folder to the module path.\r\n",
        "import sys\r\n",
        "sys.path.insert(1, \"/content/S2DC-RL-Project\")"
      ],
      "execution_count": 7,
      "outputs": []
    },
    {
      "cell_type": "markdown",
      "metadata": {
        "id": "D6ir-RUx8VKA"
      },
      "source": [
        "**Mount Drive**\r\n",
        "\r\n",
        "---\r\n",
        "We mount a shared drive to have a place to save checkpoints."
      ]
    },
    {
      "cell_type": "code",
      "metadata": {
        "colab": {
          "base_uri": "https://localhost:8080/"
        },
        "id": "V1l0dLac8eHw",
        "outputId": "1670fa37-a054-4c57-c3ea-82d054f408e1"
      },
      "source": [
        "from google.colab import drive\r\n",
        "drive.mount('/content/AlexDrive')\r\n",
        "\r\n",
        "%set_env CPFOLDER=/content/AlexDrive/Shareddrives/CS_ML_ENV/colab_env/S2DC-RL-Project"
      ],
      "execution_count": 13,
      "outputs": [
        {
          "output_type": "stream",
          "text": [
            "Drive already mounted at /content/AlexDrive; to attempt to forcibly remount, call drive.mount(\"/content/AlexDrive\", force_remount=True).\n",
            "env: CPFOLDER=/content/AlexDrive/Shareddrives/CS_ML_ENV/colab_env/S2DC-RL-Project\n"
          ],
          "name": "stdout"
        }
      ]
    },
    {
      "cell_type": "markdown",
      "metadata": {
        "id": "zMfbvc8lx9oI"
      },
      "source": [
        "**Run Project Code**\r\n",
        "\r\n",
        "---\r\n",
        "\r\n",
        "Any project files can be loaded from here and used in programs."
      ]
    },
    {
      "cell_type": "code",
      "metadata": {
        "colab": {
          "base_uri": "https://localhost:8080/"
        },
        "id": "HvLcWbdiyGnH",
        "outputId": "33463e27-24ae-43bc-fb06-b90ec55066c5"
      },
      "source": [
        "import test_module\r\n",
        "print(f\"The answer is: {test_module.test_function()}\")"
      ],
      "execution_count": 8,
      "outputs": [
        {
          "output_type": "stream",
          "text": [
            "Certifiably gamer\n",
            "The answer is: 4\n"
          ],
          "name": "stdout"
        }
      ]
    },
    {
      "cell_type": "markdown",
      "metadata": {
        "id": "mlm2CMNr3b7L"
      },
      "source": [
        "Scripts can also be executed directly."
      ]
    },
    {
      "cell_type": "code",
      "metadata": {
        "colab": {
          "base_uri": "https://localhost:8080/"
        },
        "id": "FM-QCXvq3juy",
        "outputId": "5a032bb4-cb79-41c8-803e-ab7ba6863869"
      },
      "source": [
        "! python S2DC-RL-Project/test_module.py"
      ],
      "execution_count": 9,
      "outputs": [
        {
          "output_type": "stream",
          "text": [
            "Is your program running?\n",
            "You better go catch it then!\n"
          ],
          "name": "stdout"
        }
      ]
    }
  ]
}